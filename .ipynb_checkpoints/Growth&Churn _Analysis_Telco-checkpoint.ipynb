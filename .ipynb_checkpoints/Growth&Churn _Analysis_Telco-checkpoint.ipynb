{
 "cells": [
  {
   "cell_type": "markdown",
   "id": "d8f0181b",
   "metadata": {},
   "source": [
    "# Telco Customer Churn Growth Analytics\n",
    "This notebook walks through:\n",
    "1. **EDA** of the Telco Customer Churn dataset\n",
    "2. **Cohort & Retention Analysis**\n",
    "3. **Funnel Analysis**\n",
    "4. **Simulated A/B Test**\n",
    "5. **Churn Prediction Model**"
   ]
  },
  {
   "cell_type": "code",
   "execution_count": null,
   "id": "69a46a3b",
   "metadata": {},
   "outputs": [],
   "source": [
    "import pandas as pd\n",
    "import numpy as np\n",
    "import matplotlib.pyplot as plt\n",
    "import seaborn as sns\n",
    "from sklearn.model_selection import train_test_split\n",
    "from sklearn.linear_model import LogisticRegression\n",
    "from sklearn.metrics import roc_auc_score, classification_report, confusion_matrix\n",
    "from scipy.stats import proportions_ztest\n",
    "import warnings\n",
    "warnings.filterwarnings('ignore')\n",
    "\n",
    "# Set plotting style\n",
    "sns.set(style='whitegrid')"
   ]
  },
  {
   "cell_type": "code",
   "execution_count": null,
   "id": "868564d6",
   "metadata": {},
   "outputs": [],
   "source": [
    "# 1. Load Telco Customer Churn dataset\n",
    "df = pd.read_csv('https://raw.githubusercontent.com/blastchar/telco-customer-churn/master/WA_Fn-UseC_-Telco-Customer-Churn.csv')\n",
    "df.head()"
   ]
  },
  {
   "cell_type": "markdown",
   "id": "16654b65",
   "metadata": {},
   "source": [
    "## 1. Exploratory Data Analysis (EDA)\n",
    "Load data, inspect shape, missing values, and basic distributions."
   ]
  },
  {
   "cell_type": "code",
   "execution_count": null,
   "id": "8c98a173",
   "metadata": {},
   "outputs": [],
   "source": [
    "# Dataset shape and info\n",
    "print('Shape:', df.shape)\n",
    "df.info()\n",
    "\n",
    "# Check for missing values\n",
    "df.isnull().sum()"
   ]
  },
  {
   "cell_type": "markdown",
   "id": "135a6479",
   "metadata": {},
   "source": [
    "### 1.1 Churn Distribution and Feature Relationships"
   ]
  },
  {
   "cell_type": "code",
   "execution_count": null,
   "id": "1057f841",
   "metadata": {},
   "outputs": [],
   "source": [
    "# Churn count and percentage\n",
    "churn_counts = df['Churn'].value_counts()\n",
    "print(churn_counts)\n",
    "print('\\nChurn Percentage:')\n",
    "print(churn_counts / df.shape[0] * 100)\n",
    "\n",
    "# Visualize churn by contract type\n",
    "plt.figure(figsize=(8, 4))\n",
    "sns.countplot(x='Contract', hue='Churn', data=df)\n",
    "plt.title('Churn by Contract Type')\n",
    "plt.show()\n",
    "\n",
    "# Tenure distribution\n",
    "plt.figure(figsize=(8, 4))\n",
    "sns.histplot(df['tenure'], bins=30, kde=False)\n",
    "plt.title('Distribution of Tenure (Months)')\n",
    "plt.show()"
   ]
  },
  {
   "cell_type": "markdown",
   "id": "dee2876b",
   "metadata": {},
   "source": [
    "## 2. Cohort & Retention Analysis\n",
    "Define cohorts based on the month of signup (using 'tenure'), and track retention over time."
   ]
  },
  {
   "cell_type": "code",
   "execution_count": null,
   "id": "0e8e98ba",
   "metadata": {},
   "outputs": [],
   "source": [
    "# Convert 'Churn' to numeric flag\n",
    "df['Churn_flag'] = df['Churn'].map({'Yes': 1, 'No': 0})\n",
    "\n",
    "# Simulate 'signup_date' assuming today's date is '2020-02-01' and using 'tenure' backwards\n",
    "import datetime as dt\n",
    "reference_date = pd.to_datetime('2020-02-01')\n",
    "df['signup_date'] = reference_date - pd.to_timedelta(df['tenure'], unit='M')\n",
    "# Note: This is an approximation for illustrative purposes\n",
    "\n",
    "# Extract signup month\n",
    "df['signup_month'] = df['signup_date'].dt.to_period('M')\n",
    "\n",
    "# Compute retention: 'still_active' if Churn_flag == 0\n",
    "cohort_data = df.groupby('signup_month').agg(\n",
    "    total_customers=('customerID', 'count'),\n",
    "    retained=('Churn_flag', lambda x: (x == 0).sum())\n",
    ").reset_index()\n",
    "cohort_data['retention_rate'] = cohort_data['retained'] / cohort_data['total_customers']\n",
    "\n",
    "cohort_data"
   ]
  },
  {
   "cell_type": "code",
   "execution_count": null,
   "id": "0a599711",
   "metadata": {},
   "outputs": [],
   "source": [
    "# Plot cohort retention rate\n",
    "plt.figure(figsize=(10, 5))\n",
    "plt.plot(cohort_data['signup_month'].astype(str), cohort_data['retention_rate'], marker='o')\n",
    "plt.xticks(rotation=45)\n",
    "plt.title('Monthly Cohort Retention Rate')\n",
    "plt.xlabel('Signup Month')\n",
    "plt.ylabel('Retention Rate')\n",
    "plt.tight_layout()\n",
    "plt.show()"
   ]
  },
  {
   "cell_type": "markdown",
   "id": "b26960b2",
   "metadata": {},
   "source": [
    "## 3. Funnel Analysis\n",
    "Simulate a user funnel:\n",
    "1. Signed Up\n",
    "2. Has Internet Service\n",
    "3. Uses Streaming TV or Movies\n",
    "4. Still Active\n",
    "Compute stepwise conversion rates."
   ]
  },
  {
   "cell_type": "code",
   "execution_count": null,
   "id": "51edb77c",
   "metadata": {},
   "outputs": [],
   "source": [
    "# Step 1: Total signed up (all customers)\n",
    "total_signed = df.shape[0]\n",
    "\n",
    "# Step 2: Has Internet Service != 'No'\n",
    "has_internet = df[df['InternetService'] != 'No'].shape[0]\n",
    "\n",
    "# Step 3: Uses StreamingTV or StreamingMovies\n",
    "streaming = df[(df['StreamingTV'] == 'Yes') | (df['StreamingMovies'] == 'Yes')].shape[0]\n",
    "\n",
    "# Step 4: Still active (Churn_flag == 0)\n",
    "still_active = df[df['Churn_flag'] == 0].shape[0]\n",
    "\n",
    "funnel = pd.DataFrame({\n",
    "    'Step': [\n",
    "        'Signed Up', 'Has Internet', 'Uses Streaming', 'Still Active'\n",
    "    ],\n",
    "    'Count': [\n",
    "        total_signed, has_internet, streaming, still_active\n",
    "    ]\n",
    "})\n",
    "funnel['Conversion'] = funnel['Count'] / total_signed\n",
    "funnel"
   ]
  },
  {
   "cell_type": "code",
   "execution_count": null,
   "id": "d0803597",
   "metadata": {},
   "outputs": [],
   "source": [
    "# Plot funnel conversion rates\n",
    "plt.figure(figsize=(8, 5))\n",
    "sns.barplot(x='Step', y='Conversion', data=funnel)\n",
    "plt.ylim(0, 1)\n",
    "plt.title('User Funnel Conversion Rates')\n",
    "plt.ylabel('Conversion Rate')\n",
    "plt.show()"
   ]
  },
  {
   "cell_type": "markdown",
   "id": "7f1a1750",
   "metadata": {},
   "source": [
    "## 4. Simulated A/B Test\n",
    "Randomize 'monthly_contract' customers into Control (A) and Treatment (B). Simulate a retention campaign that reduces churn for Treatment."
   ]
  },
  {
   "cell_type": "code",
   "execution_count": null,
   "id": "3a4cc029",
   "metadata": {},
   "outputs": [],
   "source": [
    "# Filter month-to-month customers\n",
    "mtm = df[df['Contract'] == 'Month-to-month'].copy()\n",
    "mtm['group'] = np.random.choice(['A', 'B'], size=mtm.shape[0], replace=True)\n",
    "\n",
    "# Baseline churn counts for each group\n",
    "grouped = mtm.groupby('group')['Churn_flag'].agg(\n",
    "    total='count',\n",
    "    churned='sum'\n",
    ").reset_index()\n",
    "grouped['rate'] = grouped['churned'] / grouped['total']\n",
    "grouped"
   ]
  },
  {
   "cell_type": "code",
   "execution_count": null,
   "id": "98031749",
   "metadata": {},
   "outputs": [],
   "source": [
    "# Simulate treatment effect: reduce churn to zero in group B (for demonstration)\n",
    "mtm_effect = mtm.copy()\n",
    "mtm_effect.loc[mtm_effect['group'] == 'B', 'Churn_flag'] = 0\n",
    "\n",
    "# Recompute counts after treatment\n",
    "grouped_effect = mtm_effect.groupby('group')['Churn_flag'].agg(\n",
    "    total='count',\n",
    "    churned='sum'\n",
    ").reset_index()\n",
    "grouped_effect['rate'] = grouped_effect['churned'] / grouped_effect['total']\n",
    "grouped_effect"
   ]
  },
  {
   "cell_type": "code",
   "execution_count": null,
   "id": "4c20a38e",
   "metadata": {},
   "outputs": [],
   "source": [
    "# Perform two-sample z-test on churn proportions\n",
    "count = grouped_effect['churned'].values\n",
    "nobs = grouped_effect['total'].values\n",
    "stat, pval = proportions_ztest(count, nobs)\n",
    "print(f'z-statistic: {stat:.3f}')\n",
    "print(f'p-value: {pval:.4f}')"
   ]
  },
  {
   "cell_type": "markdown",
   "id": "8475a258",
   "metadata": {},
   "source": [
    "## 5. Churn Prediction Model\n",
    "Train a Logistic Regression to predict churn, evaluate performance."
   ]
  },
  {
   "cell_type": "code",
   "execution_count": null,
   "id": "53780c35",
   "metadata": {},
   "outputs": [],
   "source": [
    "# Select features and encode where necessary\n",
    "features = ['SeniorCitizen', 'tenure', 'MonthlyCharges']\n",
    "X = df[features]\n",
    "y = df['Churn_flag']\n",
    "\n",
    "# Train/test split\n",
    "X_train, X_test, y_train, y_test = train_test_split(X, y, test_size=0.2, random_state=42)\n",
    "\n",
    "# Train Logistic Regression\n",
    "clf = LogisticRegression(max_iter=1000)\n",
    "clf.fit(X_train, y_train)\n",
    "\n",
    "# Predictions & evaluation\n",
    "y_pred_proba = clf.predict_proba(X_test)[:, 1]\n",
    "y_pred = clf.predict(X_test)\n",
    "print('ROC AUC:', roc_auc_score(y_test, y_pred_proba))\n",
    "print('\\nClassification Report:\\n', classification_report(y_test, y_pred))\n",
    "print('\\nConfusion Matrix:\\n', confusion_matrix(y_test, y_pred))"
   ]
  }
 ],
 "metadata": {},
 "nbformat": 4,
 "nbformat_minor": 5
}
